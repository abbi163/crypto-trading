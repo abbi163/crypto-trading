{
 "cells": [
  {
   "cell_type": "code",
   "execution_count": 15,
   "metadata": {},
   "outputs": [],
   "source": [
    "import pandas as pd\n",
    "import numpy as np"
   ]
  },
  {
   "cell_type": "code",
   "execution_count": 2,
   "metadata": {},
   "outputs": [],
   "source": [
    "btc=pd.read_csv('btc_all_time.csv')\n",
    "eth=pd.read_csv('eth_all_time.csv')"
   ]
  },
  {
   "cell_type": "code",
   "execution_count": 3,
   "metadata": {},
   "outputs": [
    {
     "data": {
      "text/html": [
       "<div>\n",
       "<style scoped>\n",
       "    .dataframe tbody tr th:only-of-type {\n",
       "        vertical-align: middle;\n",
       "    }\n",
       "\n",
       "    .dataframe tbody tr th {\n",
       "        vertical-align: top;\n",
       "    }\n",
       "\n",
       "    .dataframe thead th {\n",
       "        text-align: right;\n",
       "    }\n",
       "</style>\n",
       "<table border=\"1\" class=\"dataframe\">\n",
       "  <thead>\n",
       "    <tr style=\"text-align: right;\">\n",
       "      <th></th>\n",
       "      <th>Date</th>\n",
       "      <th>Open</th>\n",
       "      <th>High</th>\n",
       "      <th>Low</th>\n",
       "      <th>Close</th>\n",
       "      <th>Volume</th>\n",
       "      <th>Market Cap</th>\n",
       "    </tr>\n",
       "  </thead>\n",
       "  <tbody>\n",
       "    <tr>\n",
       "      <th>0</th>\n",
       "      <td>2021-02-06</td>\n",
       "      <td>38138.388340</td>\n",
       "      <td>40846.546903</td>\n",
       "      <td>38138.388340</td>\n",
       "      <td>39266.010735</td>\n",
       "      <td>7.132603e+10</td>\n",
       "      <td>7.311925e+11</td>\n",
       "    </tr>\n",
       "    <tr>\n",
       "      <th>1</th>\n",
       "      <td>2021-02-05</td>\n",
       "      <td>36931.545648</td>\n",
       "      <td>38225.905946</td>\n",
       "      <td>36658.763537</td>\n",
       "      <td>38144.306863</td>\n",
       "      <td>5.859807e+10</td>\n",
       "      <td>7.102668e+11</td>\n",
       "    </tr>\n",
       "    <tr>\n",
       "      <th>2</th>\n",
       "      <td>2021-02-04</td>\n",
       "      <td>37475.104029</td>\n",
       "      <td>38592.176377</td>\n",
       "      <td>36317.498807</td>\n",
       "      <td>36926.064465</td>\n",
       "      <td>6.883807e+10</td>\n",
       "      <td>6.875428e+11</td>\n",
       "    </tr>\n",
       "    <tr>\n",
       "      <th>3</th>\n",
       "      <td>2021-02-03</td>\n",
       "      <td>35510.821213</td>\n",
       "      <td>37480.187894</td>\n",
       "      <td>35443.982726</td>\n",
       "      <td>37472.090104</td>\n",
       "      <td>6.116682e+10</td>\n",
       "      <td>6.976729e+11</td>\n",
       "    </tr>\n",
       "    <tr>\n",
       "      <th>4</th>\n",
       "      <td>2021-02-02</td>\n",
       "      <td>33533.200671</td>\n",
       "      <td>35896.882145</td>\n",
       "      <td>33489.218672</td>\n",
       "      <td>35510.289037</td>\n",
       "      <td>6.308859e+10</td>\n",
       "      <td>6.611146e+11</td>\n",
       "    </tr>\n",
       "  </tbody>\n",
       "</table>\n",
       "</div>"
      ],
      "text/plain": [
       "         Date          Open          High           Low         Close  \\\n",
       "0  2021-02-06  38138.388340  40846.546903  38138.388340  39266.010735   \n",
       "1  2021-02-05  36931.545648  38225.905946  36658.763537  38144.306863   \n",
       "2  2021-02-04  37475.104029  38592.176377  36317.498807  36926.064465   \n",
       "3  2021-02-03  35510.821213  37480.187894  35443.982726  37472.090104   \n",
       "4  2021-02-02  33533.200671  35896.882145  33489.218672  35510.289037   \n",
       "\n",
       "         Volume    Market Cap  \n",
       "0  7.132603e+10  7.311925e+11  \n",
       "1  5.859807e+10  7.102668e+11  \n",
       "2  6.883807e+10  6.875428e+11  \n",
       "3  6.116682e+10  6.976729e+11  \n",
       "4  6.308859e+10  6.611146e+11  "
      ]
     },
     "execution_count": 3,
     "metadata": {},
     "output_type": "execute_result"
    }
   ],
   "source": [
    "btc.head()"
   ]
  },
  {
   "cell_type": "code",
   "execution_count": null,
   "metadata": {},
   "outputs": [],
   "source": []
  },
  {
   "cell_type": "code",
   "execution_count": 9,
   "metadata": {},
   "outputs": [
    {
     "data": {
      "text/plain": [
       "2011"
      ]
     },
     "execution_count": 9,
     "metadata": {},
     "output_type": "execute_result"
    }
   ],
   "source": [
    "len(eth)"
   ]
  },
  {
   "cell_type": "code",
   "execution_count": 10,
   "metadata": {},
   "outputs": [
    {
     "data": {
      "text/plain": [
       "2842"
      ]
     },
     "execution_count": 10,
     "metadata": {},
     "output_type": "execute_result"
    }
   ],
   "source": [
    "len(btc)"
   ]
  },
  {
   "cell_type": "code",
   "execution_count": 11,
   "metadata": {},
   "outputs": [],
   "source": [
    "eth['btc_Market Cap'] = btc['Market Cap'][0:len(eth)]"
   ]
  },
  {
   "cell_type": "code",
   "execution_count": 13,
   "metadata": {},
   "outputs": [],
   "source": [
    "eth['ratio_market Cap']=eth['btc_Market Cap']/eth['Market Cap']"
   ]
  },
  {
   "cell_type": "code",
   "execution_count": 14,
   "metadata": {},
   "outputs": [
    {
     "data": {
      "text/html": [
       "<div>\n",
       "<style scoped>\n",
       "    .dataframe tbody tr th:only-of-type {\n",
       "        vertical-align: middle;\n",
       "    }\n",
       "\n",
       "    .dataframe tbody tr th {\n",
       "        vertical-align: top;\n",
       "    }\n",
       "\n",
       "    .dataframe thead th {\n",
       "        text-align: right;\n",
       "    }\n",
       "</style>\n",
       "<table border=\"1\" class=\"dataframe\">\n",
       "  <thead>\n",
       "    <tr style=\"text-align: right;\">\n",
       "      <th></th>\n",
       "      <th>Date</th>\n",
       "      <th>Open</th>\n",
       "      <th>High</th>\n",
       "      <th>Low</th>\n",
       "      <th>Close</th>\n",
       "      <th>Volume</th>\n",
       "      <th>Market Cap</th>\n",
       "      <th>btc_Market Cap</th>\n",
       "      <th>ratio_market Cap</th>\n",
       "    </tr>\n",
       "  </thead>\n",
       "  <tbody>\n",
       "    <tr>\n",
       "      <th>0</th>\n",
       "      <td>2021-02-06</td>\n",
       "      <td>1717.797546</td>\n",
       "      <td>1738.314438</td>\n",
       "      <td>1649.068729</td>\n",
       "      <td>1677.846847</td>\n",
       "      <td>3.987342e+10</td>\n",
       "      <td>1.922216e+11</td>\n",
       "      <td>7.311925e+11</td>\n",
       "      <td>3.803903</td>\n",
       "    </tr>\n",
       "    <tr>\n",
       "      <th>1</th>\n",
       "      <td>2021-02-05</td>\n",
       "      <td>1594.793330</td>\n",
       "      <td>1756.511032</td>\n",
       "      <td>1594.793330</td>\n",
       "      <td>1718.650872</td>\n",
       "      <td>4.010863e+10</td>\n",
       "      <td>1.968731e+11</td>\n",
       "      <td>7.102668e+11</td>\n",
       "      <td>3.607738</td>\n",
       "    </tr>\n",
       "    <tr>\n",
       "      <th>2</th>\n",
       "      <td>2021-02-04</td>\n",
       "      <td>1661.170212</td>\n",
       "      <td>1689.186683</td>\n",
       "      <td>1561.853493</td>\n",
       "      <td>1594.762694</td>\n",
       "      <td>4.439687e+10</td>\n",
       "      <td>1.826602e+11</td>\n",
       "      <td>6.875428e+11</td>\n",
       "      <td>3.764054</td>\n",
       "    </tr>\n",
       "    <tr>\n",
       "      <th>3</th>\n",
       "      <td>2021-02-03</td>\n",
       "      <td>1514.769623</td>\n",
       "      <td>1660.909542</td>\n",
       "      <td>1510.010274</td>\n",
       "      <td>1660.909542</td>\n",
       "      <td>4.187457e+10</td>\n",
       "      <td>1.902138e+11</td>\n",
       "      <td>6.976729e+11</td>\n",
       "      <td>3.667835</td>\n",
       "    </tr>\n",
       "    <tr>\n",
       "      <th>4</th>\n",
       "      <td>2021-02-02</td>\n",
       "      <td>1369.505095</td>\n",
       "      <td>1542.990946</td>\n",
       "      <td>1362.771234</td>\n",
       "      <td>1515.193770</td>\n",
       "      <td>4.543714e+10</td>\n",
       "      <td>1.735053e+11</td>\n",
       "      <td>6.611146e+11</td>\n",
       "      <td>3.810342</td>\n",
       "    </tr>\n",
       "  </tbody>\n",
       "</table>\n",
       "</div>"
      ],
      "text/plain": [
       "         Date         Open         High          Low        Close  \\\n",
       "0  2021-02-06  1717.797546  1738.314438  1649.068729  1677.846847   \n",
       "1  2021-02-05  1594.793330  1756.511032  1594.793330  1718.650872   \n",
       "2  2021-02-04  1661.170212  1689.186683  1561.853493  1594.762694   \n",
       "3  2021-02-03  1514.769623  1660.909542  1510.010274  1660.909542   \n",
       "4  2021-02-02  1369.505095  1542.990946  1362.771234  1515.193770   \n",
       "\n",
       "         Volume    Market Cap  btc_Market Cap  ratio_market Cap  \n",
       "0  3.987342e+10  1.922216e+11    7.311925e+11          3.803903  \n",
       "1  4.010863e+10  1.968731e+11    7.102668e+11          3.607738  \n",
       "2  4.439687e+10  1.826602e+11    6.875428e+11          3.764054  \n",
       "3  4.187457e+10  1.902138e+11    6.976729e+11          3.667835  \n",
       "4  4.543714e+10  1.735053e+11    6.611146e+11          3.810342  "
      ]
     },
     "execution_count": 14,
     "metadata": {},
     "output_type": "execute_result"
    }
   ],
   "source": [
    "eth.head()"
   ]
  },
  {
   "cell_type": "code",
   "execution_count": 20,
   "metadata": {},
   "outputs": [
    {
     "data": {
      "text/html": [
       "<div>\n",
       "<style scoped>\n",
       "    .dataframe tbody tr th:only-of-type {\n",
       "        vertical-align: middle;\n",
       "    }\n",
       "\n",
       "    .dataframe tbody tr th {\n",
       "        vertical-align: top;\n",
       "    }\n",
       "\n",
       "    .dataframe thead th {\n",
       "        text-align: right;\n",
       "    }\n",
       "</style>\n",
       "<table border=\"1\" class=\"dataframe\">\n",
       "  <thead>\n",
       "    <tr style=\"text-align: right;\">\n",
       "      <th></th>\n",
       "      <th>Date</th>\n",
       "      <th>Open</th>\n",
       "      <th>High</th>\n",
       "      <th>Low</th>\n",
       "      <th>Close</th>\n",
       "      <th>Volume</th>\n",
       "      <th>Market Cap</th>\n",
       "      <th>btc_Market Cap</th>\n",
       "      <th>ratio_market Cap</th>\n",
       "    </tr>\n",
       "  </thead>\n",
       "  <tbody>\n",
       "    <tr>\n",
       "      <th>1335</th>\n",
       "      <td>2017-06-12</td>\n",
       "      <td>341.164001</td>\n",
       "      <td>414.756012</td>\n",
       "      <td>341.164001</td>\n",
       "      <td>401.48999</td>\n",
       "      <td>2.882650e+09</td>\n",
       "      <td>3.711095e+10</td>\n",
       "      <td>4.358535e+10</td>\n",
       "      <td>1.174461</td>\n",
       "    </tr>\n",
       "  </tbody>\n",
       "</table>\n",
       "</div>"
      ],
      "text/plain": [
       "            Date        Open        High         Low      Close        Volume  \\\n",
       "1335  2017-06-12  341.164001  414.756012  341.164001  401.48999  2.882650e+09   \n",
       "\n",
       "        Market Cap  btc_Market Cap  ratio_market Cap  \n",
       "1335  3.711095e+10    4.358535e+10          1.174461  "
      ]
     },
     "execution_count": 20,
     "metadata": {},
     "output_type": "execute_result"
    }
   ],
   "source": [
    "eth[eth['ratio_market Cap']==np.min(eth['ratio_market Cap'])]"
   ]
  },
  {
   "cell_type": "code",
   "execution_count": null,
   "metadata": {},
   "outputs": [],
   "source": []
  }
 ],
 "metadata": {
  "kernelspec": {
   "display_name": "Python 3",
   "language": "python",
   "name": "python3"
  },
  "language_info": {
   "codemirror_mode": {
    "name": "ipython",
    "version": 3
   },
   "file_extension": ".py",
   "mimetype": "text/x-python",
   "name": "python",
   "nbconvert_exporter": "python",
   "pygments_lexer": "ipython3",
   "version": "3.8.5"
  }
 },
 "nbformat": 4,
 "nbformat_minor": 4
}

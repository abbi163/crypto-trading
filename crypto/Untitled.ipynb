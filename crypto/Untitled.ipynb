{
 "cells": [
  {
   "cell_type": "code",
   "execution_count": null,
   "metadata": {},
   "outputs": [],
   "source": []
  },
  {
   "cell_type": "markdown",
   "metadata": {},
   "source": [
    "### Scrapping data from coinmarketcap"
   ]
  },
  {
   "cell_type": "code",
   "execution_count": 1,
   "metadata": {},
   "outputs": [],
   "source": [
    "# !pip install cryptocmd"
   ]
  },
  {
   "cell_type": "code",
   "execution_count": 2,
   "metadata": {},
   "outputs": [],
   "source": [
    "from cryptocmd import CmcScraper\n",
    "import pandas as pd\n",
    "import numpy as np\n",
    "\n",
    "def pct_change(x):\n",
    "    arr=x[:-1]-x[1:]\n",
    "    arr=np.append(arr,[np.nan])\n",
    "    return arr\n",
    "\n",
    "def crypto_data(symbol=None):\n",
    "    '''\n",
    "    input : crypto symbol\n",
    "    returns : crypto historic data\n",
    "    eg. \n",
    "    \n",
    "    crypto_data(symbol=\"BTC\")\n",
    "    >>> \n",
    "        Date\tOpen\tHigh\tLow\tClose\tVolume\tMarket Cap\n",
    "        0\t2021-01-16\t0.280292\t0.295191\t0.277010\t0.280188\t4.116256e+09\t1.272168e+10\n",
    "        1\t2021-01-15\t0.295569\t0.301757\t0.264747\t0.280405\t4.955409e+09\t1.273154e+10\n",
    "        2\t2021-01-14\t0.305536\t0.308343\t0.284211\t0.295438\t5.277189e+09\t1.341407e+10\n",
    "        3\t2021-01-13\t0.292028\t0.308798\t0.286889\t0.305580\t4.831812e+09\t1.387455e+10\n",
    "        4\t2021-01-12\t0.288677\t0.309924\t0.279370\t0.292123\t6.557418e+09\t1.326357e+10\n",
    "        ...\t...\t...\t...\t...\t...\t...\t...\n",
    "        2718\t2013-08-08\t0.004397\t0.004424\t0.004175\t0.004254\t0.000000e+00\t3.325863e+07\n",
    "        2719\t2013-08-07\t0.004669\t0.004682\t0.004333\t0.004417\t0.000000e+00\t3.453412e+07\n",
    "        2720\t2013-08-06\t0.005637\t0.005661\t0.004629\t0.004680\t0.000000e+00\t3.659101e+07\n",
    "        2721\t2013-08-05\t0.005875\t0.005980\t0.005613\t0.005613\t0.000000e+00\t4.387916e+07\n",
    "        2722\t2013-08-04\t0.005874\t0.005927\t0.005874\t0.005882\t0.000000e+00\t4.598358e+07\n",
    "        2723 rows × 7 columns\n",
    "    \n",
    "    '''\n",
    "    coin ={}\n",
    "    data = CmcScraper(symbol).get_dataframe()\n",
    "    coin['data']=data\n",
    "    coin['symbol']=symbol\n",
    "    return coin"
   ]
  },
  {
   "cell_type": "code",
   "execution_count": 6,
   "metadata": {},
   "outputs": [],
   "source": [
    "btc = crypto_data(symbol=\"BTC\")\n",
    "btc_all_time= btc['data']\n",
    "btc_all_time.to_csv('btc_all_time.csv', index=None)"
   ]
  },
  {
   "cell_type": "code",
   "execution_count": 37,
   "metadata": {},
   "outputs": [],
   "source": [
    "xem = crypto_data(symbol=\"XEM\")"
   ]
  },
  {
   "cell_type": "code",
   "execution_count": 4,
   "metadata": {},
   "outputs": [],
   "source": [
    "eth= crypto_data(symbol=\"ETH\")"
   ]
  },
  {
   "cell_type": "code",
   "execution_count": 5,
   "metadata": {},
   "outputs": [],
   "source": [
    "eth_alltime=eth['data']\n",
    "eth_alltime.to_csv('eth_all_time.csv', index=None)"
   ]
  },
  {
   "cell_type": "markdown",
   "metadata": {},
   "source": [
    "#### Let's compare the return percentage for any two coins ! For this task we will consider Close price as our benchmark!"
   ]
  },
  {
   "cell_type": "code",
   "execution_count": null,
   "metadata": {},
   "outputs": [],
   "source": []
  },
  {
   "cell_type": "code",
   "execution_count": 42,
   "metadata": {},
   "outputs": [],
   "source": [
    "def return_pct_change(period = 30, ticker1 = None, ticker2 = None):\n",
    "    '''\n",
    "    c1 and c2 are dictionary with \n",
    "    '''\n",
    "    c1=crypto_data(symbol=ticker1)\n",
    "    c2=crypto_data(symbol=ticker2)\n",
    "    currency_1 = c1['data']\n",
    "    currency_2 = c2['data']\n",
    "    currency_1_symbol = c1['symbol']\n",
    "    currency_2_symbol = c2['symbol']\n",
    "    x1=currency_1.Close.values\n",
    "    currency_1[\"pct_change_Close\"]=pct_change(x1) * 100\n",
    "    x2=currency_2.Close.values\n",
    "    currency_2[\"pct_change_Close\"]=pct_change(x2) * 100\n",
    "#     return_1 = currency_1.pct_change_Close.values[0: period]\n",
    "#     return_2 = currency_2.pct_change_Close.values[0: period]\n",
    "#     returns = []\n",
    "#     for i in range(0, period):\n",
    "#         returns.append((return_1[i], return_2[i]))\n",
    "#     returns = pd.DataFrame(data=returns, columns=[currency_1_symbol, currency_2_symbol])\n",
    "#     print('daily return mean: ')\n",
    "#     print(returns.mean())\n",
    "#     print('daily return std: ')\n",
    "#     print(returns.std())\n",
    "#     return returns.plot.bar()\n",
    "    return currency_1, currency_2"
   ]
  },
  {
   "cell_type": "code",
   "execution_count": 43,
   "metadata": {},
   "outputs": [
    {
     "data": {
      "text/plain": [
       "(           Date          Open          High           Low         Close  \\\n",
       " 0    2021-01-24  32064.376315  32944.008942  31106.685770  32289.378087   \n",
       " 1    2021-01-23  32985.756913  33360.978186  31493.159668  32067.642882   \n",
       " 2    2021-01-22  30817.625192  33811.851560  28953.372751  33005.763562   \n",
       " 3    2021-01-21  35549.397409  35552.679497  30250.749639  30825.698506   \n",
       " 4    2021-01-20  36050.112698  36378.326700  33570.477803  35547.750885   \n",
       " ...         ...           ...           ...           ...           ...   \n",
       " 2824 2013-05-02    116.379997    125.599998     92.281898    105.209999   \n",
       " 2825 2013-05-01    139.000000    139.889999    107.720001    116.989998   \n",
       " 2826 2013-04-30    144.000000    146.929993    134.050003    139.000000   \n",
       " 2827 2013-04-29    134.444000    147.488007    134.000000    144.539993   \n",
       " 2828 2013-04-28    135.300003    135.979996    132.100006    134.210007   \n",
       " \n",
       "             Volume    Market Cap  pct_change_Close  \n",
       " 0     4.864383e+10  6.008886e+11      22173.520475  \n",
       " 1     4.835474e+10  5.967331e+11     -93812.068004  \n",
       " 2     7.720727e+10  6.141605e+11     218006.505613  \n",
       " 3     7.564307e+10  5.735657e+11    -472205.237947  \n",
       " 4     6.683457e+10  6.614001e+11     -52205.550811  \n",
       " ...            ...           ...               ...  \n",
       " 2824  0.000000e+00  1.168517e+09      -1177.999878  \n",
       " 2825  0.000000e+00  1.298955e+09      -2201.000214  \n",
       " 2826  0.000000e+00  1.542813e+09       -553.999329  \n",
       " 2827  0.000000e+00  1.603769e+09       1032.998657  \n",
       " 2828  0.000000e+00  1.488567e+09               NaN  \n",
       " \n",
       " [2829 rows x 8 columns],\n",
       "            Date      Open      High       Low     Close        Volume  \\\n",
       " 0    2021-01-24  0.271840  0.277425  0.270216  0.273508  2.472432e+09   \n",
       " 1    2021-01-23  0.272611  0.282623  0.266979  0.271821  3.018883e+09   \n",
       " 2    2021-01-22  0.268776  0.277843  0.244917  0.272799  4.501766e+09   \n",
       " 3    2021-01-21  0.296466  0.306218  0.263124  0.268946  4.453463e+09   \n",
       " 4    2021-01-20  0.294219  0.308621  0.281986  0.296518  4.528342e+09   \n",
       " ...         ...       ...       ...       ...       ...           ...   \n",
       " 2726 2013-08-08  0.004397  0.004424  0.004175  0.004254  0.000000e+00   \n",
       " 2727 2013-08-07  0.004669  0.004682  0.004333  0.004417  0.000000e+00   \n",
       " 2728 2013-08-06  0.005637  0.005661  0.004629  0.004680  0.000000e+00   \n",
       " 2729 2013-08-05  0.005875  0.005980  0.005613  0.005613  0.000000e+00   \n",
       " 2730 2013-08-04  0.005874  0.005927  0.005874  0.005882  0.000000e+00   \n",
       " \n",
       "         Market Cap  pct_change_Close  \n",
       " 0     1.241839e+10          0.168702  \n",
       " 1     1.234179e+10         -0.097711  \n",
       " 2     1.238616e+10          0.385218  \n",
       " 3     1.221125e+10         -2.757160  \n",
       " 4     1.346311e+10          0.220431  \n",
       " ...            ...               ...  \n",
       " 2726  3.325863e+07         -0.016315  \n",
       " 2727  3.453412e+07         -0.026310  \n",
       " 2728  3.659101e+07         -0.093224  \n",
       " 2729  4.387916e+07         -0.026918  \n",
       " 2730  4.598358e+07               NaN  \n",
       " \n",
       " [2731 rows x 8 columns])"
      ]
     },
     "execution_count": 43,
     "metadata": {},
     "output_type": "execute_result"
    }
   ],
   "source": [
    "return_pct_change(period = 30, ticker1 = 'BTC', ticker2 = 'XRP')"
   ]
  },
  {
   "cell_type": "code",
   "execution_count": null,
   "metadata": {},
   "outputs": [],
   "source": [
    "\n",
    "\n"
   ]
  },
  {
   "cell_type": "code",
   "execution_count": null,
   "metadata": {},
   "outputs": [],
   "source": []
  }
 ],
 "metadata": {
  "kernelspec": {
   "display_name": "Python 3",
   "language": "python",
   "name": "python3"
  },
  "language_info": {
   "codemirror_mode": {
    "name": "ipython",
    "version": 3
   },
   "file_extension": ".py",
   "mimetype": "text/x-python",
   "name": "python",
   "nbconvert_exporter": "python",
   "pygments_lexer": "ipython3",
   "version": "3.8.5"
  }
 },
 "nbformat": 4,
 "nbformat_minor": 4
}
